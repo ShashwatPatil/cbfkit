{
 "cells": [
  {
   "cell_type": "markdown",
   "metadata": {},
   "source": [
    "## Rectify Constraint Function Relative Degree"
   ]
  },
  {
   "cell_type": "markdown",
   "metadata": {},
   "source": [
    "A function $h: \\mathbb R^n \\mapsto \\mathbb R$ is said to have relative-degree $n$ with respect to the system dynamics $\\dot x = f(x,u)$ if its $n^{th}$ derivative $h^{(n)}$ is the first derivative in which the control input $u$ appears explicitly. In Control Barrier Function-based control design, it is imperative that the constraint function to be rendered a CBF has relative-degree one with respect to the system dynamics. \n",
    "\n",
    "This tutorial details how to use ```CBFkit``` to take an arbitrary constraint function for an arbitrary system and \"rectify\" its relative-degree, in other words to generate a new constraint function that has relative-degree one with respect to the system dynamics.\n",
    "\n",
    "The module responsible for this operation is located at ```cbfkit.model_based.cbf_clf_controllers.utils.rectify_relative_degree```, and so the first step is to conduct the proper imports."
   ]
  },
  {
   "cell_type": "code",
   "execution_count": 1,
   "metadata": {},
   "outputs": [],
   "source": [
    "from cbfkit.controllers.model_based.cbf_clf_controllers.utils.rectify_relative_degree import rectify_relative_degree"
   ]
  },
  {
   "cell_type": "markdown",
   "metadata": {},
   "source": []
  },
  {
   "cell_type": "markdown",
   "metadata": {},
   "source": [
    "For the system dynamics, we will generate a new system using the ```cbfkit.systems.create_new_system.generate_model``` module. Further details on how to use this module for simulating arbitrary controlled dynamical systems may be found in ```tutorials.simulate_new_control_system.ipynb```.\n",
    "\n",
    "We will use the attitude dynamics of a 6 degree-of-freedom quadrotor as an example, the model for which is taken from \"Beard, R.W. (2008). Quadrotor Dynamics and Control,\" and is given by:\n",
    "\n",
    "$$\\begin{align}\\dot\\phi &= p + q\\sin\\phi \\tan\\theta + r\\cos\\phi\\tan\\theta \\\\ \\dot\\theta &= q\\cos\\phi -r\\sin\\phi\\\\ \\dot\\psi &= q\\sin\\phi\\sec\\theta + r\\cos\\phi\\sec\\theta\\\\ \\dot p &= \\frac{J_y-J_z}{J_x}qr + \\frac{1}{J_x}\\tau_\\phi\\\\ \\dot q &= \\frac{J_z-J_x}{J_y}pr + \\frac{1}{J_y}\\tau_\\theta\\\\ \\dot r &= \\frac{J_x-J_y}{J_z}pq + \\frac{1}{J_z}\\tau_\\psi\\end{align}$$\n",
    "\n",
    "where $\\phi$, $\\theta$, and $\\psi$ are the roll, pitch, and yaw angles and $p$, $q$, and $r$ are their respective rates. The control inputs are $\\tau_\\phi$, $\\tau_\\theta$, and $\\tau_psi$, which represent torques applied by the relative speeds of the four rotors, and $J_x$, $J_y$, and $J_z$ are the principle moments of inertia.\n",
    "\n",
    "Considering that a possible constraint for the quadrotor is to prevent angles of attack that are too aggressive, we introduce the following constraint function $$h(x) = \\cos\\phi\\cos\\theta - \\cos\\alpha,$$ which prevents the vector parallel to the direction of thrust of the rotors from deviating more than an angle of $\\alpha$ from the vertical (e.g., if $\\alpha=\\frac{\\pi}{2}$ then the quadrotor cannot eclipse the horizontal plane in the inertial frame).\n",
    "\n",
    "Setting the state $x = [\\phi, \\theta, \\psi, p, q, r]^\\top$, we can now create the dynamics and constraint function as follows:"
   ]
  },
  {
   "cell_type": "code",
   "execution_count": 2,
   "metadata": {},
   "outputs": [
    {
     "name": "stdout",
     "output_type": "stream",
     "text": [
      "Generated ROS2 controller node script at ./tutorials/quadrotor_attitude/ros2/controller.py\n",
      "Generated ROS2 sensor node script at ./tutorials/quadrotor_attitude/ros2/sensor.py\n",
      "Generated ROS2 estimator node script at ./tutorials/quadrotor_attitude/ros2/estimator.py\n",
      "Generated ROS2 plant node script at ./tutorials/quadrotor_attitude/ros2/plant_model.py\n",
      "Generated configuration script at ./tutorials/quadrotor_attitude/ros2/config.py\n",
      "Generated bash script to run ROS2 nodes at: ./tutorials/quadrotor_attitude/run_ros2_nodes.sh\n"
     ]
    },
    {
     "data": {
      "text/plain": [
       "(6, 3)"
      ]
     },
     "execution_count": 2,
     "metadata": {},
     "output_type": "execute_result"
    }
   ],
   "source": [
    "import jax.numpy as jnp\n",
    "from cbfkit.codegen.create_new_system.generate_model import generate_model\n",
    "\n",
    "drift_dynamics = [\n",
    "    \"x[3] + x[4]*sin(x[0])*tan(x[1]) + x[5]*cos(x[0])*tan(x[1])\",\n",
    "    \"x[4]*cos(x[0]) - x[5]*sin(x[0])\",\n",
    "    \"x[4]*sin(x[0])/cos(x[1]) + x[5]*cos(x[0])/cos(x[1])\",\n",
    "    \"(jy-jz)/jx*x[4]*x[5]\",\n",
    "    \"(jz-jx)/jx*x[3]*x[5]\",\n",
    "    \"(jx-jy)/jx*x[3]*x[4]\",\n",
    "]\n",
    "drift_dynamics = \"[\" + \",\".join(drift_dynamics) + \"]\"\n",
    "\n",
    "control_matrix = [\n",
    "    \"[0, 0, 0]\",\n",
    "    \"[0, 0, 0]\",\n",
    "    \"[0, 0, 0]\",\n",
    "    \"[1/jx, 0, 0]\",\n",
    "    \"[0, 1/jy, 0]\",\n",
    "    \"[0, 0, 1/jz]\",\n",
    "]\n",
    "control_matrix = \"[\" + \",\".join(control_matrix) + \"]\"\n",
    "constriant_function = \"cos(x[0])*cos(x[1]) - cos(alpha)\"\n",
    "\n",
    "params = {\n",
    "    \"dynamics\": {\"jx: float\": 0.25, \"jy: float\": 0.25, \"jz: float\": 0.5},\n",
    "    \"cbf\":[{\"alpha: float\": jnp.pi/2}],\n",
    "}\n",
    "\n",
    "# Define location where code will be generated\n",
    "target_directory = \"./tutorials\"\n",
    "model_name = \"quadrotor_attitude\"\n",
    "\n",
    "generate_model(\n",
    "    directory=target_directory,\n",
    "    model_name=model_name,\n",
    "    drift_dynamics=drift_dynamics,\n",
    "    control_matrix=control_matrix,\n",
    "    barrier_funcs=constriant_function,\n",
    "    params=params,\n",
    ")"
   ]
  },
  {
   "cell_type": "markdown",
   "metadata": {},
   "source": [
    "We can now import the dynamics model and constraint function we just created and instantiate them with nominal values for $J_x$, $J_y$, $J_z$, and $\\alpha$ as follows."
   ]
  },
  {
   "cell_type": "code",
   "execution_count": 3,
   "metadata": {},
   "outputs": [],
   "source": [
    "from tutorials.quadrotor_attitude import plant as attitude_dynamics\n",
    "from tutorials.quadrotor_attitude.certificate_functions.barrier_functions.barrier_1 import cbf\n",
    "from cbfkit.controllers.utils.barrier_conditions import zeroing_barriers\n",
    "\n",
    "dynamics = attitude_dynamics(jx=0.25, jy=0.25, jz=0.5)\n",
    "alpha = jnp.pi / 2\n",
    "h = cbf(alpha=alpha)"
   ]
  },
  {
   "cell_type": "markdown",
   "metadata": {},
   "source": [
    "Note, however, that for any of the control inputs $\\tau_\\phi$, $\\tau_\\theta$, or $\\tau_\\psi$ to appear in the derivative chain of the function $h$ it must be differentiated twice.\n",
    "\n",
    "With our ```rectify_relative_degree``` function, we provide a way to automatically generate a new constraint function that has relative-degree one with respect to the quadrotor attitude dynamics (or any other user-defined dynamics model). To get started, we must define a keyword arguments function ```kwargs_func``` so that the rectifier knows to treat the $h$ function parameters as static values (and not mistakenly like states).\n",
    "\n",
    "Then we can directly call the function ```rectify_relative_degree``` to get our new candidate CBF."
   ]
  },
  {
   "cell_type": "code",
   "execution_count": 4,
   "metadata": {},
   "outputs": [
    {
     "ename": "TypeError",
     "evalue": "dot_general requires contracting dimensions to have the same shape, got (7,) and (6,).",
     "output_type": "error",
     "traceback": [
      "\u001b[0;31m---------------------------------------------------------------------------\u001b[0m",
      "\u001b[0;31mTypeError\u001b[0m                                 Traceback (most recent call last)",
      "Cell \u001b[0;32mIn[4], line 1\u001b[0m\n\u001b[0;32m----> 1\u001b[0m cbf_package \u001b[38;5;241m=\u001b[39m \u001b[43mrectify_relative_degree\u001b[49m\u001b[43m(\u001b[49m\n\u001b[1;32m      2\u001b[0m \u001b[43m    \u001b[49m\u001b[43mfunction\u001b[49m\u001b[38;5;241;43m=\u001b[39;49m\u001b[43mh\u001b[49m\u001b[43m,\u001b[49m\n\u001b[1;32m      3\u001b[0m \u001b[43m    \u001b[49m\u001b[43msystem_dynamics\u001b[49m\u001b[38;5;241;43m=\u001b[39;49m\u001b[43mdynamics\u001b[49m\u001b[43m,\u001b[49m\n\u001b[1;32m      4\u001b[0m \u001b[43m    \u001b[49m\u001b[43mstate_dim\u001b[49m\u001b[38;5;241;43m=\u001b[39;49m\u001b[38;5;241;43m6\u001b[39;49m\u001b[43m \u001b[49m\u001b[38;5;241;43m+\u001b[39;49m\u001b[43m \u001b[49m\u001b[38;5;241;43m1\u001b[39;49m\u001b[43m,\u001b[49m\u001b[43m \u001b[49m\u001b[38;5;66;43;03m# 6 states, 1 for time\u001b[39;49;00m\n\u001b[1;32m      5\u001b[0m \u001b[43m    \u001b[49m\u001b[43mform\u001b[49m\u001b[38;5;241;43m=\u001b[39;49m\u001b[43m \u001b[49m\u001b[38;5;124;43m\"\u001b[39;49m\u001b[38;5;124;43mexponential\u001b[39;49m\u001b[38;5;124;43m\"\u001b[39;49m\u001b[43m,\u001b[49m\n\u001b[1;32m      6\u001b[0m \u001b[43m)\u001b[49m\n",
      "File \u001b[0;32m/home/cbfkit/src/cbfkit/controllers/model_based/cbf_clf_controllers/utils/rectify_relative_degree.py:84\u001b[0m, in \u001b[0;36mrectify_relative_degree\u001b[0;34m(function, system_dynamics, state_dim, roots, form)\u001b[0m\n\u001b[1;32m     65\u001b[0m \u001b[38;5;28;01mdef\u001b[39;00m \u001b[38;5;21mrectify_relative_degree\u001b[39m(\n\u001b[1;32m     66\u001b[0m     function: Callable[[\u001b[38;5;28mfloat\u001b[39m, Array], Array],\n\u001b[1;32m     67\u001b[0m     system_dynamics: DynamicsCallable,\n\u001b[0;32m   (...)\u001b[0m\n\u001b[1;32m     70\u001b[0m     form: \u001b[38;5;28mstr\u001b[39m \u001b[38;5;241m=\u001b[39m \u001b[38;5;124m\"\u001b[39m\u001b[38;5;124mexponential\u001b[39m\u001b[38;5;124m\"\u001b[39m,\n\u001b[1;32m     71\u001b[0m ) \u001b[38;5;241m-\u001b[39m\u001b[38;5;241m>\u001b[39m CertificateCollection:\n\u001b[1;32m     72\u001b[0m \u001b[38;5;250m    \u001b[39m\u001b[38;5;124;03m\"\"\"Rectifies the relative degree of the provided constraint function with respect to\u001b[39;00m\n\u001b[1;32m     73\u001b[0m \u001b[38;5;124;03m    the system dynamics deriving a new exponential- or high-order-CBF.\u001b[39;00m\n\u001b[1;32m     74\u001b[0m \n\u001b[0;32m   (...)\u001b[0m\n\u001b[1;32m     82\u001b[0m \u001b[38;5;124;03m        Callable[[Dict[str, Any]], CertificateTuple]: Function to create the CertificateCollection\u001b[39;00m\n\u001b[1;32m     83\u001b[0m \u001b[38;5;124;03m    \"\"\"\u001b[39;00m\n\u001b[0;32m---> 84\u001b[0m     function_list \u001b[38;5;241m=\u001b[39m \u001b[43mcompute_function_list\u001b[49m\u001b[43m(\u001b[49m\u001b[43mfunction\u001b[49m\u001b[43m,\u001b[49m\u001b[43m \u001b[49m\u001b[43msystem_dynamics\u001b[49m\u001b[43m,\u001b[49m\u001b[43m \u001b[49m\u001b[43mstate_dim\u001b[49m\u001b[43m \u001b[49m\u001b[38;5;241;43m+\u001b[39;49m\u001b[43m \u001b[49m\u001b[38;5;241;43m1\u001b[39;49m\u001b[43m,\u001b[49m\u001b[43m \u001b[49m\u001b[43mform\u001b[49m\u001b[43m)\u001b[49m\n\u001b[1;32m     86\u001b[0m     \u001b[38;5;28;01mif\u001b[39;00m form \u001b[38;5;241m==\u001b[39m \u001b[38;5;124m\"\u001b[39m\u001b[38;5;124mexponential\u001b[39m\u001b[38;5;124m\"\u001b[39m:\n\u001b[1;32m     87\u001b[0m         n_fl \u001b[38;5;241m=\u001b[39m \u001b[38;5;28mlen\u001b[39m(function_list)\n",
      "File \u001b[0;32m/home/cbfkit/src/cbfkit/controllers/model_based/cbf_clf_controllers/utils/rectify_relative_degree.py:187\u001b[0m, in \u001b[0;36mcompute_function_list\u001b[0;34m(function, system_dynamics, state_dim, form, func_list, subkey, n_samples)\u001b[0m\n\u001b[1;32m    185\u001b[0m     _, dyn_g \u001b[38;5;241m=\u001b[39m system_dynamics(sample[:\u001b[38;5;241m-\u001b[39m\u001b[38;5;241m1\u001b[39m])\n\u001b[1;32m    186\u001b[0m     grad \u001b[38;5;241m=\u001b[39m jacobian(sample)[:\u001b[38;5;241m-\u001b[39m\u001b[38;5;241m1\u001b[39m]\n\u001b[0;32m--> 187\u001b[0m     total \u001b[38;5;241m+\u001b[39m\u001b[38;5;241m=\u001b[39m jnp\u001b[38;5;241m.\u001b[39msum(jnp\u001b[38;5;241m.\u001b[39mabs(\u001b[43mjnp\u001b[49m\u001b[38;5;241;43m.\u001b[39;49m\u001b[43mmatmul\u001b[49m\u001b[43m(\u001b[49m\u001b[43mgrad\u001b[49m\u001b[43m,\u001b[49m\u001b[43m \u001b[49m\u001b[43mdyn_g\u001b[49m\u001b[43m)\u001b[49m))\n\u001b[1;32m    189\u001b[0m \u001b[38;5;28;01mdef\u001b[39;00m \u001b[38;5;21mexponential_new_func\u001b[39m(x: Array):\n\u001b[1;32m    190\u001b[0m     \u001b[38;5;28;01mreturn\u001b[39;00m jnp\u001b[38;5;241m.\u001b[39mmatmul(jacobian(x)[:\u001b[38;5;241m-\u001b[39m\u001b[38;5;241m1\u001b[39m], system_dynamics(x[:\u001b[38;5;241m-\u001b[39m\u001b[38;5;241m1\u001b[39m])[\u001b[38;5;241m0\u001b[39m])\n",
      "    \u001b[0;31m[... skipping hidden 12 frame]\u001b[0m\n",
      "File \u001b[0;32m/usr/local/lib/python3.10/dist-packages/jax/_src/numpy/lax_numpy.py:3397\u001b[0m, in \u001b[0;36mmatmul\u001b[0;34m(a, b, precision, preferred_element_type)\u001b[0m\n\u001b[1;32m   3395\u001b[0m a \u001b[38;5;241m=\u001b[39m lax\u001b[38;5;241m.\u001b[39msqueeze(a, \u001b[38;5;28mtuple\u001b[39m(a_squeeze))\n\u001b[1;32m   3396\u001b[0m b \u001b[38;5;241m=\u001b[39m lax\u001b[38;5;241m.\u001b[39msqueeze(b, \u001b[38;5;28mtuple\u001b[39m(b_squeeze))\n\u001b[0;32m-> 3397\u001b[0m out \u001b[38;5;241m=\u001b[39m \u001b[43mlax\u001b[49m\u001b[38;5;241;43m.\u001b[39;49m\u001b[43mdot_general\u001b[49m\u001b[43m(\u001b[49m\n\u001b[1;32m   3398\u001b[0m \u001b[43m  \u001b[49m\u001b[43ma\u001b[49m\u001b[43m,\u001b[49m\u001b[43m \u001b[49m\u001b[43mb\u001b[49m\u001b[43m,\u001b[49m\u001b[43m \u001b[49m\u001b[43m(\u001b[49m\u001b[43m(\u001b[49m\u001b[43m(\u001b[49m\u001b[43mndim\u001b[49m\u001b[43m(\u001b[49m\u001b[43ma\u001b[49m\u001b[43m)\u001b[49m\u001b[43m \u001b[49m\u001b[38;5;241;43m-\u001b[39;49m\u001b[43m \u001b[49m\u001b[38;5;241;43m1\u001b[39;49m\u001b[43m,\u001b[49m\u001b[43m)\u001b[49m\u001b[43m,\u001b[49m\u001b[43m \u001b[49m\u001b[43m(\u001b[49m\u001b[43mndim\u001b[49m\u001b[43m(\u001b[49m\u001b[43mb\u001b[49m\u001b[43m)\u001b[49m\u001b[43m \u001b[49m\u001b[38;5;241;43m-\u001b[39;49m\u001b[43m \u001b[49m\u001b[38;5;241;43m1\u001b[39;49m\u001b[43m \u001b[49m\u001b[38;5;241;43m-\u001b[39;49m\u001b[43m \u001b[49m\u001b[43mb_is_mat\u001b[49m\u001b[43m,\u001b[49m\u001b[43m)\u001b[49m\u001b[43m)\u001b[49m\u001b[43m,\u001b[49m\u001b[43m \u001b[49m\u001b[43m(\u001b[49m\u001b[43ma_batch\u001b[49m\u001b[43m,\u001b[49m\u001b[43m \u001b[49m\u001b[43mb_batch\u001b[49m\u001b[43m)\u001b[49m\u001b[43m)\u001b[49m\u001b[43m,\u001b[49m\n\u001b[1;32m   3399\u001b[0m \u001b[43m  \u001b[49m\u001b[43mprecision\u001b[49m\u001b[38;5;241;43m=\u001b[39;49m\u001b[43mprecision\u001b[49m\u001b[43m,\u001b[49m\u001b[43m \u001b[49m\u001b[43mpreferred_element_type\u001b[49m\u001b[38;5;241;43m=\u001b[39;49m\u001b[43mpreferred_element_type\u001b[49m\u001b[43m)\u001b[49m\n\u001b[1;32m   3400\u001b[0m result \u001b[38;5;241m=\u001b[39m lax\u001b[38;5;241m.\u001b[39mtranspose(out, perm)\n\u001b[1;32m   3401\u001b[0m \u001b[38;5;28;01mreturn\u001b[39;00m lax_internal\u001b[38;5;241m.\u001b[39m_convert_element_type(result, preferred_element_type, output_weak_type)\n",
      "    \u001b[0;31m[... skipping hidden 7 frame]\u001b[0m\n",
      "File \u001b[0;32m/usr/local/lib/python3.10/dist-packages/jax/_src/lax/lax.py:2597\u001b[0m, in \u001b[0;36m_dot_general_shape_rule\u001b[0;34m(lhs, rhs, dimension_numbers, precision, preferred_element_type)\u001b[0m\n\u001b[1;32m   2594\u001b[0m \u001b[38;5;28;01mif\u001b[39;00m \u001b[38;5;129;01mnot\u001b[39;00m core\u001b[38;5;241m.\u001b[39mdefinitely_equal_shape(lhs_contracting_shape, rhs_contracting_shape):\n\u001b[1;32m   2595\u001b[0m   msg \u001b[38;5;241m=\u001b[39m (\u001b[38;5;124m\"\u001b[39m\u001b[38;5;124mdot_general requires contracting dimensions to have the same \u001b[39m\u001b[38;5;124m\"\u001b[39m\n\u001b[1;32m   2596\u001b[0m          \u001b[38;5;124m\"\u001b[39m\u001b[38;5;124mshape, got \u001b[39m\u001b[38;5;132;01m{}\u001b[39;00m\u001b[38;5;124m and \u001b[39m\u001b[38;5;132;01m{}\u001b[39;00m\u001b[38;5;124m.\u001b[39m\u001b[38;5;124m\"\u001b[39m)\n\u001b[0;32m-> 2597\u001b[0m   \u001b[38;5;28;01mraise\u001b[39;00m \u001b[38;5;167;01mTypeError\u001b[39;00m(msg\u001b[38;5;241m.\u001b[39mformat(lhs_contracting_shape, rhs_contracting_shape))\n\u001b[1;32m   2599\u001b[0m \u001b[38;5;28;01mreturn\u001b[39;00m _dot_general_shape_computation(lhs\u001b[38;5;241m.\u001b[39mshape, rhs\u001b[38;5;241m.\u001b[39mshape, dimension_numbers)\n",
      "\u001b[0;31mTypeError\u001b[0m: dot_general requires contracting dimensions to have the same shape, got (7,) and (6,)."
     ]
    }
   ],
   "source": [
    "cbf_package = rectify_relative_degree(\n",
    "    function=h,\n",
    "    system_dynamics=dynamics,\n",
    "    state_dim=6, # 6 states\n",
    "    form= \"exponential\",\n",
    ")\n"
   ]
  },
  {
   "cell_type": "markdown",
   "metadata": {},
   "source": []
  },
  {
   "cell_type": "markdown",
   "metadata": {},
   "source": [
    "This new function ```cbf``` now has relative-degree one with respect to the quadrotor attitude dynamics, and may be used directly as a candidate CBF in, e.g., a CBF-QP control law (such as the one provided at ```cbfkit.controllers.model_based.cbf_clf_controllers```)."
   ]
  },
  {
   "cell_type": "markdown",
   "metadata": {},
   "source": []
  }
 ],
 "metadata": {
  "kernelspec": {
   "display_name": ".venv",
   "language": "python",
   "name": "python3"
  },
  "language_info": {
   "codemirror_mode": {
    "name": "ipython",
    "version": 3
   },
   "file_extension": ".py",
   "mimetype": "text/x-python",
   "name": "python",
   "nbconvert_exporter": "python",
   "pygments_lexer": "ipython3",
   "version": "3.10.12"
  }
 },
 "nbformat": 4,
 "nbformat_minor": 2
}
