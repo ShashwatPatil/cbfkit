{
 "cells": [
  {
   "cell_type": "markdown",
   "metadata": {},
   "source": [
    "# CBF Tutorial - Part 4: SCFB-Dynamic-Obstacles\n",
    "\n",
    "Authors: Bardh and Tom\n",
    "\n",
    "## Message\n",
    "\n",
    "In part 4 of this tutorial, we consider more realistic system that has nonlinear unicycle model and Extended Kalman Filter (EKF) as a formalism of perception.\n",
    "The core theory comes from [Risk-Bounded Control with Kalman Filtering and Stochastic Barrier Functions](https://arxiv.org/pdf/2112.14912.pdf).\n",
    "This tutorial is the most complex and realistic example in this tutorial.\n",
    "\n",
    "The notebook contains,\n",
    "\n",
    "1. An implementation of Stochastic Control Barrier Functions (tut_scbf) for start-to-goal control on a nonlinear system.\n",
    "1. The formulation of the tut_scbf as a quadratic program.\n",
    "1. A representative example using a nonlinear unicycle model which avoids static obstacles.\n",
    "\n",
    "## Tutorial\n",
    "\n",
    "Since we start from a stochastic model, we need to start from Stochastic Differential Equation (SDE) which can describe controller not only with differential equation but also with stochastic model.\n",
    "\n",
    "Consider a [Probability Space](https://en.wikipedia.org/wiki/Probability_space) $(\\Omega, \\mathcal{F}, P)$ where\n",
    "1. A sample space, $\\Omega$, which is the set of all possible outcomes.\n",
    "2. An event space, which is a set of events $\\mathcal{F}$, an event being a set of outcomes in the sample space.\n",
    "3. A probability function $P$, which assigns each event in the event space a probability, which is a number between 0 and 1.\n",
    "\n",
    " and the uncorrelated standard [Wiener processes](https://en.wikipedia.org/wiki/Wiener_process) $w(t)$, $v(t)$ defined on this space.\n",
    "A stochastic system is defined using the following SDE\n",
    "\n",
    "$$\n",
    "\\frac{dx}{dt} = (f(x) + g(x) \\cdot u) dt\n",
    "$$\n",
    "\n",
    "\n",
    "## Code implementation\n",
    "\n",
    "First, we import the necessary packages for our example."
   ]
  }
 ],
 "metadata": {
  "language_info": {
   "name": "python"
  },
  "orig_nbformat": 4
 },
 "nbformat": 4,
 "nbformat_minor": 2
}
